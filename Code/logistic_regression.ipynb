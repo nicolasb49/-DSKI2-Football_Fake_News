{
 "cells": [
  {
   "cell_type": "code",
   "execution_count": 1,
   "metadata": {},
   "outputs": [
    {
     "name": "stderr",
     "output_type": "stream",
     "text": [
      "[nltk_data] Downloading package punkt to /Users/nicolas/nltk_data...\n",
      "[nltk_data]   Package punkt is already up-to-date!\n",
      "[nltk_data] Downloading package stopwords to\n",
      "[nltk_data]     /Users/nicolas/nltk_data...\n",
      "[nltk_data]   Package stopwords is already up-to-date!\n",
      "[nltk_data] Downloading package averaged_perceptron_tagger to\n",
      "[nltk_data]     /Users/nicolas/nltk_data...\n",
      "[nltk_data]   Package averaged_perceptron_tagger is already up-to-\n",
      "[nltk_data]       date!\n",
      "[nltk_data] Downloading package wordnet to /Users/nicolas/nltk_data...\n",
      "[nltk_data]   Package wordnet is already up-to-date!\n"
     ]
    },
    {
     "data": {
      "text/plain": [
       "True"
      ]
     },
     "execution_count": 1,
     "metadata": {},
     "output_type": "execute_result"
    }
   ],
   "source": [
    "import pandas as pd\n",
    "import re\n",
    "import nltk\n",
    "from nltk.corpus import stopwords, wordnet\n",
    "from nltk.stem import WordNetLemmatizer\n",
    "from sklearn.feature_extraction.text import TfidfVectorizer\n",
    "from sklearn.linear_model import LogisticRegression\n",
    "from sklearn.model_selection import train_test_split\n",
    "from sklearn.metrics import accuracy_score, classification_report\n",
    "\n",
    "nltk.download('punkt')\n",
    "nltk.download('stopwords')\n",
    "nltk.download('averaged_perceptron_tagger')\n",
    "nltk.download('wordnet')"
   ]
  },
  {
   "cell_type": "code",
   "execution_count": 2,
   "metadata": {},
   "outputs": [
    {
     "name": "stdout",
     "output_type": "stream",
     "text": [
      "Accuracy: 0.9537689642814479\n",
      "              precision    recall  f1-score   support\n",
      "\n",
      "           0       0.96      0.95      0.96      4420\n",
      "           1       0.94      0.96      0.95      3951\n",
      "\n",
      "    accuracy                           0.95      8371\n",
      "   macro avg       0.95      0.95      0.95      8371\n",
      "weighted avg       0.95      0.95      0.95      8371\n",
      "\n"
     ]
    }
   ],
   "source": [
    "# Logistik Regression Modell\n",
    "\n",
    "def get_wordnet_pos(word):\n",
    "    tag = nltk.pos_tag([word])[0][1][0].upper()\n",
    "    return {\"J\": wordnet.ADJ, \"N\": wordnet.NOUN, \"V\": wordnet.VERB, \"R\": wordnet.ADV}.get(tag, wordnet.NOUN)\n",
    "\n",
    "stop_words = set(stopwords.words('english'))\n",
    "additional_stopwords = {\"al\", \"god\", \"https\", \"ahly\", \"http\"}\n",
    "stop_words = stop_words.union(additional_stopwords)\n",
    "\n",
    "def custom_preprocess(text):\n",
    "    text = text.lower()\n",
    "    text = re.sub(r'\\bha\\s+ha\\b', 'haha', text)\n",
    "    text = re.sub(r\"\\b(\\w+)'\\s*s\\b\", r\"\\1's\", text)\n",
    "    return text\n",
    "\n",
    "def preprocess(tweet):\n",
    "    tweet = tweet.lower()\n",
    "    words = re.findall(r'\\b[a-zA-Z]+\\b', tweet)\n",
    "    lemmatizer = WordNetLemmatizer()\n",
    "    processed_words = []\n",
    "    for w in words:\n",
    "        lemma = lemmatizer.lemmatize(w, get_wordnet_pos(w))\n",
    "        if lemma not in stop_words:\n",
    "            processed_words.append(lemma)\n",
    "    return \" \".join(processed_words)\n",
    "\n",
    "df = pd.read_csv(\"./assets/combined.csv\")\n",
    "df.dropna(subset=[\"tweet\", \"Status\"], inplace=True)\n",
    "df[\"processed_tweet\"] = df[\"tweet\"].apply(preprocess)\n",
    "\n",
    "X = df[\"processed_tweet\"]\n",
    "y = df[\"Status\"]\n",
    "\n",
    "tfidf = TfidfVectorizer()\n",
    "X_tfidf = tfidf.fit_transform(X)\n",
    "\n",
    "X_train, X_test, y_train, y_test = train_test_split(X_tfidf, y, test_size=0.2, random_state=42)\n",
    "\n",
    "clf = LogisticRegression(max_iter=1000)\n",
    "clf.fit(X_train, y_train)\n",
    "y_pred = clf.predict(X_test)\n",
    "\n",
    "print(\"Accuracy:\", accuracy_score(y_test, y_pred))\n",
    "print(classification_report(y_test, y_pred))"
   ]
  }
 ],
 "metadata": {
  "kernelspec": {
   "display_name": "Python 3",
   "language": "python",
   "name": "python3"
  },
  "language_info": {
   "codemirror_mode": {
    "name": "ipython",
    "version": 3
   },
   "file_extension": ".py",
   "mimetype": "text/x-python",
   "name": "python",
   "nbconvert_exporter": "python",
   "pygments_lexer": "ipython3",
   "version": "3.13.0"
  }
 },
 "nbformat": 4,
 "nbformat_minor": 2
}
